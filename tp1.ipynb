{
 "cells": [
  {
   "cell_type": "markdown",
   "metadata": {},
   "source": [
    "# Criterios de evaluación.\n",
    "\n",
    "* Se deben utilizar nombres de variables descriptivos y claros (Utilizar la nomeclatura correspondiente para los nombres de variables).\n",
    "* Comentarios claros y concisos que expliquen el propósito de cada sección del código.\n",
    "* Entrega en tiempo y forma.\n",
    "* Todo el código desarrollado debe ser subido a un repositorio en GitHub (el nombre del repositorio de seguir la siguiente estructura: tp1_tlp3_nombre_apellido).\n",
    "\n",
    "\n",
    "**Aclaración: Para resolver las actividades se debe incertar casillas de codigo entre cada actividad del cuaderno de Jupyter**"
   ]
  },
  {
   "cell_type": "markdown",
   "metadata": {},
   "source": [
    "### 1. **Hola Mundo y Variables**\n",
    "\n",
    "   - **Actividad 1.1**: Deben escribir un programa que imprima \"¡Hola, Mundo!\" en la consola.\n",
    "   - **Actividad 1.2**: Deben crear una variable llamada `nombre` y hacer que el programa imprima un saludo personalizado: `Hola, <nombre>!`"
   ]
  },
  {
   "cell_type": "code",
   "execution_count": 1,
   "metadata": {},
   "outputs": [
    {
     "name": "stdout",
     "output_type": "stream",
     "text": [
      "¡Hola mundo!\n",
      "Hola, Gerardo!\n"
     ]
    }
   ],
   "source": [
    "\n",
    "nombre = input(\"Ingrese su nombre\")\n",
    "print(\"¡Hola mundo!\")        # Actividad 1.1\n",
    "print(f\"Hola, {nombre}!\")    # Actividad 1.2"
   ]
  },
  {
   "cell_type": "markdown",
   "metadata": {},
   "source": [
    "### 2. **Operaciones Matemáticas Básicas**\n",
    "\n",
    "   - **Actividad 1.1**: Crear un programa que pida al usuario dos números y realice las cuatro operaciones matemáticas básicas (suma, resta, multiplicación y división), imprimiendo los resultados.\n",
    "   - **Actividad 1.2**: Hacer que el programa calcule el promedio de los dos números."
   ]
  },
  {
   "cell_type": "code",
   "execution_count": 2,
   "metadata": {},
   "outputs": [
    {
     "name": "stdout",
     "output_type": "stream",
     "text": [
      "\n",
      "Los numero elegidos fueron 4 y 2\n",
      "Suma: 6\n",
      "Resta: 2\n",
      "Multiplicación: 8\n",
      "División: 2.0\n",
      "\n",
      "El promedio de 4 y 2 es: 3.0\n"
     ]
    }
   ],
   "source": [
    "# Actividad 1.1\n",
    "\n",
    "n1 = int(input(\"Ingrese el primer numero\"))\n",
    "n2 = int(input(\"Ingrese el segundo numero\"))\n",
    "\n",
    "suma = n1 + n2\n",
    "resta = n1 - n2\n",
    "multiplicacion = n1 * n2\n",
    "\n",
    "if n2 != 0:\n",
    "    division = n1 / n2\n",
    "else:\n",
    "    division = \"No se puede dividir por 0\"\n",
    "\n",
    "resultado = f\"\"\"\n",
    "Los numero elegidos fueron {n1} y {n2}\n",
    "Suma: {suma}\n",
    "Resta: {resta}\n",
    "Multiplicación: {multiplicacion}\n",
    "División: {division}\n",
    "\"\"\"\n",
    "\n",
    "promedio = (n1 + n2) / 2\n",
    "\n",
    "print(resultado)\n",
    "print(f\"El promedio de {n1} y {n2} es: {promedio}\")  # Actividad 1.2"
   ]
  },
  {
   "cell_type": "markdown",
   "metadata": {},
   "source": [
    "### 3. **Condicionales (if-else)**\n",
    "\n",
    "   - **Actividad 1.1**: Escribir un programa que pida al usuario su edad y le diga si es mayor de edad (18 años o más).\n",
    "   - **Actividad 1.2**: Agregar un mensaje diferente para diferentes rangos de edad, como por ejemplo, si es un niño, adolescente o adulto."
   ]
  },
  {
   "cell_type": "code",
   "execution_count": 3,
   "metadata": {},
   "outputs": [
    {
     "name": "stdout",
     "output_type": "stream",
     "text": [
      "Es mayor de edad\n",
      "Es un adulto\n"
     ]
    }
   ],
   "source": [
    "# Actividad 1.1 y 1.2\n",
    "\n",
    "edad = int(input(\"Ingrese su edad\"))\n",
    "\n",
    "if 0 <= edad <= 11:\n",
    "    print(\"Es menor de edad\")\n",
    "    print(\"Es un niño\")\n",
    "elif 12 <= edad <= 17:\n",
    "    print(\"Es menor de edad\")\n",
    "    print(\"Es adolscente\")\n",
    "else:\n",
    "    print(\"Es mayor de edad\")\n",
    "    print(\"Es un adulto\")"
   ]
  },
  {
   "cell_type": "markdown",
   "metadata": {},
   "source": [
    "### 4. **Ciclos (while, for)**\n",
    "\n",
    "   - **Actividad 1.1**: Escribir un programa que imprima los números del 1 al 10 usando un bucle `for`.\n",
    "   - **Actividad 1.2**: Usar un bucle `while` para imprimir los números del 1 al 10, e imprimir solo aquellos números que sean divisibles por 2."
   ]
  },
  {
   "cell_type": "code",
   "execution_count": 4,
   "metadata": {},
   "outputs": [
    {
     "name": "stdout",
     "output_type": "stream",
     "text": [
      "0\n",
      "1\n",
      "2\n",
      "3\n",
      "4\n",
      "5\n",
      "6\n",
      "7\n",
      "8\n",
      "9\n",
      "10\n",
      "2\n",
      "4\n",
      "6\n",
      "8\n",
      "10\n"
     ]
    }
   ],
   "source": [
    "# Actividad 1.1\n",
    "\n",
    "for numeros in range(11):\n",
    "    print(numeros)\n",
    "\n",
    "# Actividad 1.2\n",
    "\n",
    "divisible = 1\n",
    "\n",
    "while divisible <= 10:\n",
    "    if divisible % 2 == 0:\n",
    "        print(divisible)\n",
    "    \n",
    "    divisible += 1"
   ]
  },
  {
   "cell_type": "markdown",
   "metadata": {},
   "source": [
    "### 5. **Listas y Bucles**\n",
    "\n",
    "   - **Actividad 1.1**: Crear una lista con 5 números y escribir un programa que imprima cada número de la lista usando un bucle `for`.\n",
    "   - **Actividad 1.2**: Usar un bucle para calcular la suma de los números de la lista."
   ]
  },
  {
   "cell_type": "code",
   "execution_count": 5,
   "metadata": {},
   "outputs": [
    {
     "name": "stdout",
     "output_type": "stream",
     "text": [
      "10\n",
      "15\n",
      "16\n",
      "20\n",
      "30\n",
      "El valor de la suma de todos los numeros es: 91\n"
     ]
    }
   ],
   "source": [
    "# Actividad 1.1\n",
    "\n",
    "lista = [10, 15, 16, 20, 30]\n",
    "\n",
    "for numero in lista:\n",
    "    print(numero)\n",
    "\n",
    "# Actividad 1.2\n",
    "\n",
    "suma  = 0\n",
    "\n",
    "for numero in lista:\n",
    "    suma = suma + numero\n",
    "    \n",
    "print(f\"El valor de la suma de todos los numeros es: {suma}\")"
   ]
  },
  {
   "cell_type": "markdown",
   "metadata": {},
   "source": [
    "### 6. **Funciones**\n",
    "\n",
    "   - **Actividad 1.1**: Escribir una función llamada `saludo` que reciba un nombre como parámetro y devuelva un saludo personalizado.\n",
    "   - **Actividad 1.2**: Crear una función que reciba dos números y devuelva su suma, resta, multiplicación y división."
   ]
  },
  {
   "cell_type": "code",
   "execution_count": 7,
   "metadata": {},
   "outputs": [
    {
     "name": "stdout",
     "output_type": "stream",
     "text": [
      "hola, Gerardo!\n",
      "Los numeros elegidos fueron 5 y 8\n",
      "Los resultados son:\n",
      "\n",
      "    suma: 13\n",
      "    resta: -3\n",
      "    multiplicacion: 40\n",
      "    division: 0.625\n",
      "\n"
     ]
    }
   ],
   "source": [
    "# Actividad 1.1\n",
    "\n",
    "def saludo(nombre):\n",
    "    return  f\"hola, {nombre}!\"\n",
    "\n",
    "nombre_usuario = input(\"Escriba su nombre\")\n",
    "\n",
    "print(saludo(nombre_usuario))\n",
    "\n",
    "# Actividad 1.2\n",
    "\n",
    "def operaciones(n1, n2):\n",
    "    suma  = n1 + n2\n",
    "    resta = n1 - n2\n",
    "    multiplicacion = n1 * n2\n",
    "    \n",
    "    if n2 != 0:\n",
    "        division  = n1 / n2\n",
    "    else:\n",
    "        division = \"No se puede dividir por 0\"\n",
    "        \n",
    "    return f\"\"\"\n",
    "    suma: {suma}\n",
    "    resta: {resta}\n",
    "    multiplicacion: {multiplicacion}\n",
    "    division: {division}\n",
    "\"\"\"\n",
    "        \n",
    "numero1 = int(input(\"Ingrese el primer  numero\"))\n",
    "numero2 = int(input(\"Ingrese el segundo numero\"))\n",
    "\n",
    "print(f\"Los numeros elegidos fueron {numero1} y {numero2}\")\n",
    "print(\"Los resultados son:\")\n",
    "print(operaciones(numero1, numero2))"
   ]
  },
  {
   "cell_type": "markdown",
   "metadata": {},
   "source": [
    "### 7. **Manejo de cadenas de texto**\n",
    "\n",
    "   - **Actividad 1.1**: Escribir un programa que pida al usuario su nombre y lo imprima en mayúsculas y en minúsculas.\n",
    "   - **Actividad 1.2**: Hacer que el programa imprima la longitud del nombre ingresado (no tener en cuenta los espacios en blanco)."
   ]
  },
  {
   "cell_type": "code",
   "execution_count": 8,
   "metadata": {},
   "outputs": [
    {
     "name": "stdout",
     "output_type": "stream",
     "text": [
      "\n",
      "Su nombre en mayuscula es: GERARDO VEGA \n",
      "Su nombre en minuscula es: gerardo vega\n",
      "\n",
      "La longitud de su nombre es de: 11\n"
     ]
    }
   ],
   "source": [
    "# Actividad 1.1\n",
    "\n",
    "def imprime(nombre):\n",
    "    return f\"\"\"\n",
    "Su nombre en mayuscula es: {nombre.upper()} \n",
    "Su nombre en minuscula es: {nombre.lower()}\n",
    "\"\"\"\n",
    "\n",
    "nombre_completo = input(\"Ingrese su nombre completo\")\n",
    "\n",
    "print(imprime(nombre_completo))\n",
    "\n",
    "# Actividad 1.2\n",
    "\n",
    "def longitud(nombre):\n",
    "    nombre_sin_espacios = nombre.replace(\" \",\"\")\n",
    "    return len(nombre_sin_espacios)\n",
    "\n",
    "print(f\"La longitud de su nombre es de: {longitud(nombre_completo)}\")"
   ]
  },
  {
   "cell_type": "markdown",
   "metadata": {},
   "source": [
    "### 8. **Diccionarios**\n",
    "\n",
    "   - **Actividad1.1**: Crear un diccionario que contenga los nombres de tres personas como claves y sus edades como valores. El programa debe imprimir la edad de cada persona.\n",
    "   - **Actividad1.2**: Escribir un programa que pregunte al usuario un nombre, luego su edad y los agregue al diccionario."
   ]
  },
  {
   "cell_type": "code",
   "execution_count": 11,
   "metadata": {},
   "outputs": [
    {
     "name": "stdout",
     "output_type": "stream",
     "text": [
      "dict_values([23, 24, 25])\n",
      "{'Matias': 23, 'Rocio': 24, 'Marta': 25, 'Gerardo': 20}\n"
     ]
    }
   ],
   "source": [
    "#  Actividad 1.1\n",
    "\n",
    "informacion = {\"Matias\": 23, \"Rocio\": 24, \"Marta\": 25}\n",
    "print(informacion.values())\n",
    "\n",
    "# Actividada 1.2\n",
    "\n",
    "nombre = input(\"Ingrese su nombre\")\n",
    "edad = int(input(\"Ingrese su edad\"))\n",
    "\n",
    "informacion[nombre] = edad\n",
    "\n",
    "print(informacion)"
   ]
  },
  {
   "cell_type": "markdown",
   "metadata": {},
   "source": [
    "### 9. **Números aleatorios**\n",
    "\n",
    "   - **Actividad 1.1**: Escribir un programa que genere 5 números aleatorios entre 1 y 100, lo imprima por consola y diga si es mayor o menor a 50.\n",
    "   - **Actividad 1.2**: Sumar los 5 números generados aleatoriamente y en caso de que el resultado sea mayor a 100, mostrar el valor antes de ser mayor a 100 y cuantos números se sumaron para llegar a dicho valor."
   ]
  },
  {
   "cell_type": "code",
   "execution_count": 12,
   "metadata": {},
   "outputs": [
    {
     "name": "stdout",
     "output_type": "stream",
     "text": [
      "El numero generado es menor a 50:  44\n",
      "El numero generado es menor a 50:  39\n",
      "la suma de los elementos es mayor a 100, se sumaron un total de 3, la suma dio 113\n",
      "El numero generado es menor a 50:  30\n",
      "la suma de los elementos es mayor a 100, se sumaron un total de 4, la suma dio 125\n",
      "El numero generado es menor a 50:  12\n",
      "la suma de los elementos es mayor a 100, se sumaron un total de 5, la suma dio 181\n",
      "El numero generado es mayor a 50:  56\n"
     ]
    }
   ],
   "source": [
    "# Actividad 1.1 y 1.2\n",
    "\n",
    "from random import randint\n",
    "\n",
    "lista_aleatorios = []\n",
    "suma = 0\n",
    "\n",
    "for i in range(5):\n",
    "    numero_aleatorio = randint(1,100)\n",
    "    suma += numero_aleatorio\n",
    "    lista_aleatorios.append(numero_aleatorio)\n",
    "    if suma > 100:\n",
    "        print(f\"la suma de los elementos es mayor a 100, se sumaron un total de {len(lista_aleatorios)}, la suma dio {suma}\")\n",
    "    if numero_aleatorio > 50:\n",
    "        print(\"El numero generado es mayor a 50: \", numero_aleatorio)\n",
    "    if numero_aleatorio < 50:\n",
    "        print(\"El numero generado es menor a 50: \", numero_aleatorio)\n",
    "    if numero_aleatorio == 50:\n",
    "        print(\"El numero generado es igual a 50: \", numero_aleatorio)"
   ]
  },
  {
   "cell_type": "markdown",
   "metadata": {},
   "source": [
    "### 10. **Proyecto Final: Calculadora**\n",
    "\n",
    "   - **Actividad 1.1**: Los estudiantes deben crear una calculadora básica que permita realizar operaciones de suma, resta, multiplicación y división con entradas del usuario. El programa debe pedir al usuario que elija la operación y luego introducir 2 números para realizar el cálculo.\n",
    "   - **Actividad 1.2**: Implementar una opción para que el usuario pueda continuar haciendo cálculos o salir del programa."
   ]
  },
  {
   "cell_type": "code",
   "execution_count": 15,
   "metadata": {},
   "outputs": [
    {
     "name": "stdout",
     "output_type": "stream",
     "text": [
      "Bienvenidos a la calculadora\n",
      "Para salir escriba \"salir\"\n",
      "Las operaciones son suma, resta, multiplicacion y division\n",
      "El resultado es: 14\n",
      "El resultado es: 9\n",
      "El resultado es: 54\n",
      "El resultado es: 13.5\n"
     ]
    }
   ],
   "source": [
    "# Actividad 1.1 y 1.2\n",
    "\n",
    "print(\"Bienvenidos a la calculadora\")\n",
    "print(\"Para salir escriba \\\"salir\\\"\")\n",
    "print(\"Las operaciones son suma, resta, multiplicacion y division\")\n",
    "\n",
    "resultado = \"\"\n",
    "\n",
    "while True:\n",
    "    if not resultado:\n",
    "        resultado = input(\"Ingrese un numero: \")\n",
    "        if resultado == \"salir\":\n",
    "            break\n",
    "        resultado = int(resultado)\n",
    "    op = input(\"Ingresa la operacion que desea realizar: suma, resta, multiplicacion o division o escriba \\\"salir\\\"\")\n",
    "    if op == \"salir\":\n",
    "        break\n",
    "    n2 = input(\"Ingresa el siguiente numero: \")\n",
    "    if n2 == \"salir\":\n",
    "        break\n",
    "    n2 = int(n2)\n",
    "    \n",
    "    if op == \"suma\":\n",
    "        resultado += n2\n",
    "    elif op == \"resta\":\n",
    "        resultado -= n2\n",
    "    elif op == \"multiplicacion\":\n",
    "        resultado *= n2\n",
    "    elif op == \"division\":\n",
    "        resultado /= n2\n",
    "    else:\n",
    "        print(\"Operacion no valida porfavor utiliza suma, resta, multiplicacion o division\")\n",
    "        break\n",
    "    \n",
    "    print(f\"El resultado es: {resultado}\")"
   ]
  },
  {
   "cell_type": "markdown",
   "metadata": {},
   "source": [
    "### EXTRA. **Juegos Simples (Adivina el número)**\n",
    "\n",
    "   - **Actividad 1.1**: Escribir un juego donde el programa elija un número aleatorio entre 1 y 100 y el usuario tenga que adivinarlo. El programa debe dar pistas si el número es mayor o menor.\n",
    "   - **Actividad 1.2**: Limitar el número de intentos y mostrar un mensaje de éxito o fracaso al final."
   ]
  },
  {
   "cell_type": "code",
   "execution_count": 17,
   "metadata": {},
   "outputs": [
    {
     "name": "stdout",
     "output_type": "stream",
     "text": [
      "El numero es menor\n",
      "El numero es menor\n",
      "El numero es menor\n",
      "El numero es mayor\n",
      "El numero es mayor\n"
     ]
    }
   ],
   "source": [
    "# Actividad 1.1\n",
    "\n",
    "from random import randint\n",
    "\n",
    "numero_ganador = randint(1,100)\n",
    "intentos = 0\n",
    "opcion_usuario = 0\n",
    "\n",
    "while intentos < 5:\n",
    "    opcion_usuario = int(input(\"Ingrese un numero del 1 al 100\"))\n",
    "    if opcion_usuario == numero_ganador:\n",
    "        print(f\"Felicidades, ganaste. El numero era: {numero_ganador}\")\n",
    "        break\n",
    "    if opcion_usuario < numero_ganador:\n",
    "        print(\"El numero es mayor\")\n",
    "    elif opcion_usuario > numero_ganador:\n",
    "        print(\"El numero es menor\")\n",
    "    else:\n",
    "        print(\"La opcion ingresada no es valida, intente de nuevo\")\n",
    "    intentos += 1"
   ]
  }
 ],
 "metadata": {
  "kernelspec": {
   "display_name": "Python 3",
   "language": "python",
   "name": "python3"
  },
  "language_info": {
   "codemirror_mode": {
    "name": "ipython",
    "version": 3
   },
   "file_extension": ".py",
   "mimetype": "text/x-python",
   "name": "python",
   "nbconvert_exporter": "python",
   "pygments_lexer": "ipython3",
   "version": "3.12.9"
  }
 },
 "nbformat": 4,
 "nbformat_minor": 2
}
